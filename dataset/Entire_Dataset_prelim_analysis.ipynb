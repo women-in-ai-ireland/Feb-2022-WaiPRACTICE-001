{
 "cells": [
  {
   "cell_type": "code",
   "execution_count": 1,
   "id": "73cdba50",
   "metadata": {},
   "outputs": [],
   "source": [
    "import os\n",
    "import pandas as pd\n",
    "import matplotlib.pyplot as plt\n",
    "import numpy as np"
   ]
  },
  {
   "cell_type": "code",
   "execution_count": 5,
   "id": "553a1e24",
   "metadata": {},
   "outputs": [
    {
     "name": "stderr",
     "output_type": "stream",
     "text": [
      "C:\\Users\\fran-\\anaconda3\\envs\\DAA-socialdist-cuda11\\lib\\site-packages\\IPython\\core\\interactiveshell.py:3147: DtypeWarning: Columns (5,7) have mixed types.Specify dtype option on import or set low_memory=False.\n",
      "  interactivity=interactivity, compiler=compiler, result=result)\n"
     ]
    },
    {
     "data": {
      "text/html": [
       "<div>\n",
       "<style scoped>\n",
       "    .dataframe tbody tr th:only-of-type {\n",
       "        vertical-align: middle;\n",
       "    }\n",
       "\n",
       "    .dataframe tbody tr th {\n",
       "        vertical-align: top;\n",
       "    }\n",
       "\n",
       "    .dataframe thead th {\n",
       "        text-align: right;\n",
       "    }\n",
       "</style>\n",
       "<table border=\"1\" class=\"dataframe\">\n",
       "  <thead>\n",
       "    <tr style=\"text-align: right;\">\n",
       "      <th></th>\n",
       "      <th>0</th>\n",
       "      <th>1</th>\n",
       "      <th>2</th>\n",
       "      <th>3</th>\n",
       "      <th>4</th>\n",
       "      <th>5</th>\n",
       "      <th>6</th>\n",
       "      <th>7</th>\n",
       "      <th>8</th>\n",
       "      <th>9</th>\n",
       "      <th>...</th>\n",
       "      <th>25</th>\n",
       "      <th>26</th>\n",
       "      <th>27</th>\n",
       "      <th>28</th>\n",
       "      <th>29</th>\n",
       "      <th>30</th>\n",
       "      <th>31</th>\n",
       "      <th>32</th>\n",
       "      <th>33</th>\n",
       "      <th>34</th>\n",
       "    </tr>\n",
       "  </thead>\n",
       "  <tbody>\n",
       "    <tr>\n",
       "      <th>0</th>\n",
       "      <td>1</td>\n",
       "      <td>1.526344e+09</td>\n",
       "      <td>e</td>\n",
       "      <td>arp</td>\n",
       "      <td>192.168.100.1</td>\n",
       "      <td>NaN</td>\n",
       "      <td>192.168.100.3</td>\n",
       "      <td>NaN</td>\n",
       "      <td>4</td>\n",
       "      <td>240</td>\n",
       "      <td>...</td>\n",
       "      <td>2</td>\n",
       "      <td>2</td>\n",
       "      <td>120</td>\n",
       "      <td>120</td>\n",
       "      <td>0.002508</td>\n",
       "      <td>0.000836</td>\n",
       "      <td>0.000836</td>\n",
       "      <td>0</td>\n",
       "      <td>Normal</td>\n",
       "      <td>Normal</td>\n",
       "    </tr>\n",
       "    <tr>\n",
       "      <th>1</th>\n",
       "      <td>2</td>\n",
       "      <td>1.526344e+09</td>\n",
       "      <td>e</td>\n",
       "      <td>tcp</td>\n",
       "      <td>192.168.100.7</td>\n",
       "      <td>139</td>\n",
       "      <td>192.168.100.4</td>\n",
       "      <td>36390</td>\n",
       "      <td>10</td>\n",
       "      <td>680</td>\n",
       "      <td>...</td>\n",
       "      <td>5</td>\n",
       "      <td>5</td>\n",
       "      <td>350</td>\n",
       "      <td>330</td>\n",
       "      <td>0.006190</td>\n",
       "      <td>0.002751</td>\n",
       "      <td>0.002751</td>\n",
       "      <td>0</td>\n",
       "      <td>Normal</td>\n",
       "      <td>Normal</td>\n",
       "    </tr>\n",
       "    <tr>\n",
       "      <th>2</th>\n",
       "      <td>3</td>\n",
       "      <td>1.526344e+09</td>\n",
       "      <td>e</td>\n",
       "      <td>udp</td>\n",
       "      <td>192.168.100.149</td>\n",
       "      <td>51838</td>\n",
       "      <td>27.124.125.250</td>\n",
       "      <td>123</td>\n",
       "      <td>2</td>\n",
       "      <td>180</td>\n",
       "      <td>...</td>\n",
       "      <td>1</td>\n",
       "      <td>1</td>\n",
       "      <td>90</td>\n",
       "      <td>90</td>\n",
       "      <td>20.590960</td>\n",
       "      <td>0.000000</td>\n",
       "      <td>0.000000</td>\n",
       "      <td>0</td>\n",
       "      <td>Normal</td>\n",
       "      <td>Normal</td>\n",
       "    </tr>\n",
       "    <tr>\n",
       "      <th>3</th>\n",
       "      <td>4</td>\n",
       "      <td>1.526344e+09</td>\n",
       "      <td>e</td>\n",
       "      <td>arp</td>\n",
       "      <td>192.168.100.4</td>\n",
       "      <td>NaN</td>\n",
       "      <td>192.168.100.7</td>\n",
       "      <td>NaN</td>\n",
       "      <td>10</td>\n",
       "      <td>510</td>\n",
       "      <td>...</td>\n",
       "      <td>5</td>\n",
       "      <td>5</td>\n",
       "      <td>210</td>\n",
       "      <td>300</td>\n",
       "      <td>0.006189</td>\n",
       "      <td>0.002751</td>\n",
       "      <td>0.002751</td>\n",
       "      <td>0</td>\n",
       "      <td>Normal</td>\n",
       "      <td>Normal</td>\n",
       "    </tr>\n",
       "    <tr>\n",
       "      <th>4</th>\n",
       "      <td>5</td>\n",
       "      <td>1.526344e+09</td>\n",
       "      <td>e</td>\n",
       "      <td>udp</td>\n",
       "      <td>192.168.100.27</td>\n",
       "      <td>58999</td>\n",
       "      <td>192.168.100.1</td>\n",
       "      <td>53</td>\n",
       "      <td>4</td>\n",
       "      <td>630</td>\n",
       "      <td>...</td>\n",
       "      <td>2</td>\n",
       "      <td>2</td>\n",
       "      <td>174</td>\n",
       "      <td>456</td>\n",
       "      <td>0.005264</td>\n",
       "      <td>0.001755</td>\n",
       "      <td>0.001755</td>\n",
       "      <td>0</td>\n",
       "      <td>Normal</td>\n",
       "      <td>Normal</td>\n",
       "    </tr>\n",
       "  </tbody>\n",
       "</table>\n",
       "<p>5 rows × 35 columns</p>\n",
       "</div>"
      ],
      "text/plain": [
       "   0             1  2    3                4      5               6      7   \\\n",
       "0   1  1.526344e+09  e  arp    192.168.100.1    NaN   192.168.100.3    NaN   \n",
       "1   2  1.526344e+09  e  tcp    192.168.100.7    139   192.168.100.4  36390   \n",
       "2   3  1.526344e+09  e  udp  192.168.100.149  51838  27.124.125.250    123   \n",
       "3   4  1.526344e+09  e  arp    192.168.100.4    NaN   192.168.100.7    NaN   \n",
       "4   5  1.526344e+09  e  udp   192.168.100.27  58999   192.168.100.1     53   \n",
       "\n",
       "   8    9   ... 25  26   27   28         29        30        31  32      33  \\\n",
       "0   4  240  ...  2   2  120  120   0.002508  0.000836  0.000836   0  Normal   \n",
       "1  10  680  ...  5   5  350  330   0.006190  0.002751  0.002751   0  Normal   \n",
       "2   2  180  ...  1   1   90   90  20.590960  0.000000  0.000000   0  Normal   \n",
       "3  10  510  ...  5   5  210  300   0.006189  0.002751  0.002751   0  Normal   \n",
       "4   4  630  ...  2   2  174  456   0.005264  0.001755  0.001755   0  Normal   \n",
       "\n",
       "       34  \n",
       "0  Normal  \n",
       "1  Normal  \n",
       "2  Normal  \n",
       "3  Normal  \n",
       "4  Normal  \n",
       "\n",
       "[5 rows x 35 columns]"
      ]
     },
     "execution_count": 5,
     "metadata": {},
     "output_type": "execute_result"
    }
   ],
   "source": [
    "\n",
    "#df_combined = None\n",
    "for i in range(50, 75):\n",
    "    csv_name = 'UNSW_2018_IoT_Botnet_Dataset_' + str(i) + '.csv'   \n",
    "    csv_path = os.path.join('Entire Dataset', csv_name)\n",
    "    df = pd.read_csv(csv_path, header=None)\n",
    "    if df_combined is None:\n",
    "        df_combined = df\n",
    "    else:\n",
    "        df_combined = pd.concat([df_combined, df], axis = 0, copy=False)\n",
    "    \n",
    "df_combined.head()"
   ]
  },
  {
   "cell_type": "code",
   "execution_count": 6,
   "id": "86b56244",
   "metadata": {},
   "outputs": [
    {
     "data": {
      "text/plain": [
       "(73370443, 35)"
      ]
     },
     "execution_count": 6,
     "metadata": {},
     "output_type": "execute_result"
    }
   ],
   "source": [
    "df_combined.shape"
   ]
  },
  {
   "cell_type": "markdown",
   "id": "fe2a4e35",
   "metadata": {},
   "source": [
    "#### All the raw csv files contain the same amount of completely empty columns, these don't appear to just correspond to missing data but just full empty columns, removing these from the dataframe"
   ]
  },
  {
   "cell_type": "code",
   "execution_count": 9,
   "id": "5796f87c",
   "metadata": {},
   "outputs": [
    {
     "data": {
      "text/plain": [
       "(73370443, 29)"
      ]
     },
     "execution_count": 9,
     "metadata": {},
     "output_type": "execute_result"
    }
   ],
   "source": [
    "nan_value = float(\"NaN\")\n",
    "df_combined.replace(\"\", nan_value, inplace=True)\n",
    "\n",
    "df_combined.dropna(how=\"all\", axis=1, inplace=True)\n",
    "\n",
    "df_combined.shape"
   ]
  },
  {
   "cell_type": "markdown",
   "id": "1c501387",
   "metadata": {},
   "source": [
    "#### The final columns present are just the original network flow features, without the additional features generated across sliding window of length 100(Table 4 of paper) and without the mapping to numerical features(Section 7of paper)"
   ]
  },
  {
   "cell_type": "code",
   "execution_count": 10,
   "id": "f2fe5299",
   "metadata": {},
   "outputs": [
    {
     "data": {
      "text/plain": [
       "29"
      ]
     },
     "execution_count": 10,
     "metadata": {},
     "output_type": "execute_result"
    }
   ],
   "source": [
    "column_names = [\"pkSeqID\",\"Stime\",\"Flgs\",\"Proto\",\"Saddr\",\"Sport\",\"Daddr\",\"Dport\",\"Pkts\",\"Bytes\",\n",
    "                \"State\",\"Ltime\",\"Seq\",\"Dur\",\"Mean\",\"Stddev\",\"Sum\",\"Min\",\"Max\",\"Spkts\",\"Dpkts\",\"Sbytes\",\"Dbytes\",\"Rate\",\"Srate\",\"Drate\",\n",
    "                \"Attack\",\"Category\",\"Subcategory\"]\n",
    "\n",
    "len(column_names)"
   ]
  },
  {
   "cell_type": "code",
   "execution_count": 11,
   "id": "3404c9d3",
   "metadata": {},
   "outputs": [
    {
     "data": {
      "text/html": [
       "<div>\n",
       "<style scoped>\n",
       "    .dataframe tbody tr th:only-of-type {\n",
       "        vertical-align: middle;\n",
       "    }\n",
       "\n",
       "    .dataframe tbody tr th {\n",
       "        vertical-align: top;\n",
       "    }\n",
       "\n",
       "    .dataframe thead th {\n",
       "        text-align: right;\n",
       "    }\n",
       "</style>\n",
       "<table border=\"1\" class=\"dataframe\">\n",
       "  <thead>\n",
       "    <tr style=\"text-align: right;\">\n",
       "      <th></th>\n",
       "      <th>pkSeqID</th>\n",
       "      <th>Stime</th>\n",
       "      <th>Flgs</th>\n",
       "      <th>Proto</th>\n",
       "      <th>Saddr</th>\n",
       "      <th>Sport</th>\n",
       "      <th>Daddr</th>\n",
       "      <th>Dport</th>\n",
       "      <th>Pkts</th>\n",
       "      <th>Bytes</th>\n",
       "      <th>...</th>\n",
       "      <th>Spkts</th>\n",
       "      <th>Dpkts</th>\n",
       "      <th>Sbytes</th>\n",
       "      <th>Dbytes</th>\n",
       "      <th>Rate</th>\n",
       "      <th>Srate</th>\n",
       "      <th>Drate</th>\n",
       "      <th>Attack</th>\n",
       "      <th>Category</th>\n",
       "      <th>Subcategory</th>\n",
       "    </tr>\n",
       "  </thead>\n",
       "  <tbody>\n",
       "    <tr>\n",
       "      <th>0</th>\n",
       "      <td>1</td>\n",
       "      <td>1.526344e+09</td>\n",
       "      <td>e</td>\n",
       "      <td>arp</td>\n",
       "      <td>192.168.100.1</td>\n",
       "      <td>NaN</td>\n",
       "      <td>192.168.100.3</td>\n",
       "      <td>NaN</td>\n",
       "      <td>4</td>\n",
       "      <td>240</td>\n",
       "      <td>...</td>\n",
       "      <td>2</td>\n",
       "      <td>2</td>\n",
       "      <td>120</td>\n",
       "      <td>120</td>\n",
       "      <td>0.002508</td>\n",
       "      <td>0.000836</td>\n",
       "      <td>0.000836</td>\n",
       "      <td>0</td>\n",
       "      <td>Normal</td>\n",
       "      <td>Normal</td>\n",
       "    </tr>\n",
       "    <tr>\n",
       "      <th>1</th>\n",
       "      <td>2</td>\n",
       "      <td>1.526344e+09</td>\n",
       "      <td>e</td>\n",
       "      <td>tcp</td>\n",
       "      <td>192.168.100.7</td>\n",
       "      <td>139</td>\n",
       "      <td>192.168.100.4</td>\n",
       "      <td>36390</td>\n",
       "      <td>10</td>\n",
       "      <td>680</td>\n",
       "      <td>...</td>\n",
       "      <td>5</td>\n",
       "      <td>5</td>\n",
       "      <td>350</td>\n",
       "      <td>330</td>\n",
       "      <td>0.006190</td>\n",
       "      <td>0.002751</td>\n",
       "      <td>0.002751</td>\n",
       "      <td>0</td>\n",
       "      <td>Normal</td>\n",
       "      <td>Normal</td>\n",
       "    </tr>\n",
       "    <tr>\n",
       "      <th>2</th>\n",
       "      <td>3</td>\n",
       "      <td>1.526344e+09</td>\n",
       "      <td>e</td>\n",
       "      <td>udp</td>\n",
       "      <td>192.168.100.149</td>\n",
       "      <td>51838</td>\n",
       "      <td>27.124.125.250</td>\n",
       "      <td>123</td>\n",
       "      <td>2</td>\n",
       "      <td>180</td>\n",
       "      <td>...</td>\n",
       "      <td>1</td>\n",
       "      <td>1</td>\n",
       "      <td>90</td>\n",
       "      <td>90</td>\n",
       "      <td>20.590960</td>\n",
       "      <td>0.000000</td>\n",
       "      <td>0.000000</td>\n",
       "      <td>0</td>\n",
       "      <td>Normal</td>\n",
       "      <td>Normal</td>\n",
       "    </tr>\n",
       "    <tr>\n",
       "      <th>3</th>\n",
       "      <td>4</td>\n",
       "      <td>1.526344e+09</td>\n",
       "      <td>e</td>\n",
       "      <td>arp</td>\n",
       "      <td>192.168.100.4</td>\n",
       "      <td>NaN</td>\n",
       "      <td>192.168.100.7</td>\n",
       "      <td>NaN</td>\n",
       "      <td>10</td>\n",
       "      <td>510</td>\n",
       "      <td>...</td>\n",
       "      <td>5</td>\n",
       "      <td>5</td>\n",
       "      <td>210</td>\n",
       "      <td>300</td>\n",
       "      <td>0.006189</td>\n",
       "      <td>0.002751</td>\n",
       "      <td>0.002751</td>\n",
       "      <td>0</td>\n",
       "      <td>Normal</td>\n",
       "      <td>Normal</td>\n",
       "    </tr>\n",
       "    <tr>\n",
       "      <th>4</th>\n",
       "      <td>5</td>\n",
       "      <td>1.526344e+09</td>\n",
       "      <td>e</td>\n",
       "      <td>udp</td>\n",
       "      <td>192.168.100.27</td>\n",
       "      <td>58999</td>\n",
       "      <td>192.168.100.1</td>\n",
       "      <td>53</td>\n",
       "      <td>4</td>\n",
       "      <td>630</td>\n",
       "      <td>...</td>\n",
       "      <td>2</td>\n",
       "      <td>2</td>\n",
       "      <td>174</td>\n",
       "      <td>456</td>\n",
       "      <td>0.005264</td>\n",
       "      <td>0.001755</td>\n",
       "      <td>0.001755</td>\n",
       "      <td>0</td>\n",
       "      <td>Normal</td>\n",
       "      <td>Normal</td>\n",
       "    </tr>\n",
       "  </tbody>\n",
       "</table>\n",
       "<p>5 rows × 29 columns</p>\n",
       "</div>"
      ],
      "text/plain": [
       "   pkSeqID         Stime Flgs Proto            Saddr  Sport           Daddr  \\\n",
       "0        1  1.526344e+09    e   arp    192.168.100.1    NaN   192.168.100.3   \n",
       "1        2  1.526344e+09    e   tcp    192.168.100.7    139   192.168.100.4   \n",
       "2        3  1.526344e+09    e   udp  192.168.100.149  51838  27.124.125.250   \n",
       "3        4  1.526344e+09    e   arp    192.168.100.4    NaN   192.168.100.7   \n",
       "4        5  1.526344e+09    e   udp   192.168.100.27  58999   192.168.100.1   \n",
       "\n",
       "   Dport  Pkts  Bytes  ... Spkts  Dpkts  Sbytes  Dbytes       Rate     Srate  \\\n",
       "0    NaN     4    240  ...     2      2     120     120   0.002508  0.000836   \n",
       "1  36390    10    680  ...     5      5     350     330   0.006190  0.002751   \n",
       "2    123     2    180  ...     1      1      90      90  20.590960  0.000000   \n",
       "3    NaN    10    510  ...     5      5     210     300   0.006189  0.002751   \n",
       "4     53     4    630  ...     2      2     174     456   0.005264  0.001755   \n",
       "\n",
       "      Drate  Attack  Category  Subcategory  \n",
       "0  0.000836       0    Normal       Normal  \n",
       "1  0.002751       0    Normal       Normal  \n",
       "2  0.000000       0    Normal       Normal  \n",
       "3  0.002751       0    Normal       Normal  \n",
       "4  0.001755       0    Normal       Normal  \n",
       "\n",
       "[5 rows x 29 columns]"
      ]
     },
     "execution_count": 11,
     "metadata": {},
     "output_type": "execute_result"
    }
   ],
   "source": [
    "df_combined.columns = column_names\n",
    "df_combined.head()"
   ]
  },
  {
   "cell_type": "markdown",
   "id": "1838ecec",
   "metadata": {},
   "source": [
    "#### As we can see belowthe entire dataset is just as imbalanced, so how to select subset? Should we use all normal network data to maximize amount of that class and then how much data altogether? "
   ]
  },
  {
   "cell_type": "code",
   "execution_count": 12,
   "id": "7ba44010",
   "metadata": {},
   "outputs": [
    {
     "data": {
      "text/plain": [
       "Attack  Category        Subcategory      \n",
       "0       Normal          Normal                   9543\n",
       "1       DDoS            HTTP                    19771\n",
       "                        TCP                  19547603\n",
       "                        UDP                  18965106\n",
       "        DoS             HTTP                    29706\n",
       "                        TCP                  12315997\n",
       "                        UDP                  20659491\n",
       "        Reconnaissance  OS_Fingerprint         358275\n",
       "                        Service_Scan          1463364\n",
       "        Theft           Data_Exfiltration         118\n",
       "                        Keylogging               1469\n",
       "dtype: int64"
      ]
     },
     "execution_count": 12,
     "metadata": {},
     "output_type": "execute_result"
    }
   ],
   "source": [
    "df_combined.groupby(['Attack', 'Category', 'Subcategory']).size()"
   ]
  },
  {
   "cell_type": "code",
   "execution_count": 13,
   "id": "53c173c6",
   "metadata": {},
   "outputs": [
    {
     "data": {
      "text/plain": [
       "Attack  Category      \n",
       "0       Normal                9543\n",
       "1       DDoS              38532480\n",
       "        DoS               33005194\n",
       "        Reconnaissance     1821639\n",
       "        Theft                 1587\n",
       "dtype: int64"
      ]
     },
     "execution_count": 13,
     "metadata": {},
     "output_type": "execute_result"
    }
   ],
   "source": [
    "df_combined.groupby(['Attack', 'Category']).size()"
   ]
  },
  {
   "cell_type": "code",
   "execution_count": 14,
   "id": "0f25e8ef",
   "metadata": {},
   "outputs": [
    {
     "data": {
      "text/plain": [
       "Attack\n",
       "0        9543\n",
       "1    73360900\n",
       "dtype: int64"
      ]
     },
     "execution_count": 14,
     "metadata": {},
     "output_type": "execute_result"
    }
   ],
   "source": [
    "df_combined.groupby(['Attack']).size()"
   ]
  },
  {
   "cell_type": "markdown",
   "id": "4635b1c9",
   "metadata": {},
   "source": [
    "#### As mentioned in paper source and destination port was occasionally missing for protocol arp, they mapped these missing values to negative one, doing the same for no."
   ]
  },
  {
   "cell_type": "code",
   "execution_count": 15,
   "id": "2fc105f0",
   "metadata": {},
   "outputs": [
    {
     "data": {
      "text/html": [
       "<div>\n",
       "<style scoped>\n",
       "    .dataframe tbody tr th:only-of-type {\n",
       "        vertical-align: middle;\n",
       "    }\n",
       "\n",
       "    .dataframe tbody tr th {\n",
       "        vertical-align: top;\n",
       "    }\n",
       "\n",
       "    .dataframe thead th {\n",
       "        text-align: right;\n",
       "    }\n",
       "</style>\n",
       "<table border=\"1\" class=\"dataframe\">\n",
       "  <thead>\n",
       "    <tr style=\"text-align: right;\">\n",
       "      <th></th>\n",
       "      <th>pkSeqID</th>\n",
       "      <th>Stime</th>\n",
       "      <th>Flgs</th>\n",
       "      <th>Proto</th>\n",
       "      <th>Saddr</th>\n",
       "      <th>Sport</th>\n",
       "      <th>Daddr</th>\n",
       "      <th>Dport</th>\n",
       "      <th>Pkts</th>\n",
       "      <th>Bytes</th>\n",
       "      <th>...</th>\n",
       "      <th>Spkts</th>\n",
       "      <th>Dpkts</th>\n",
       "      <th>Sbytes</th>\n",
       "      <th>Dbytes</th>\n",
       "      <th>Rate</th>\n",
       "      <th>Srate</th>\n",
       "      <th>Drate</th>\n",
       "      <th>Attack</th>\n",
       "      <th>Category</th>\n",
       "      <th>Subcategory</th>\n",
       "    </tr>\n",
       "  </thead>\n",
       "  <tbody>\n",
       "    <tr>\n",
       "      <th>0</th>\n",
       "      <td>1</td>\n",
       "      <td>1.526344e+09</td>\n",
       "      <td>e</td>\n",
       "      <td>arp</td>\n",
       "      <td>192.168.100.1</td>\n",
       "      <td>-1</td>\n",
       "      <td>192.168.100.3</td>\n",
       "      <td>-1</td>\n",
       "      <td>4</td>\n",
       "      <td>240</td>\n",
       "      <td>...</td>\n",
       "      <td>2</td>\n",
       "      <td>2</td>\n",
       "      <td>120</td>\n",
       "      <td>120</td>\n",
       "      <td>0.002508</td>\n",
       "      <td>0.000836</td>\n",
       "      <td>0.000836</td>\n",
       "      <td>0</td>\n",
       "      <td>Normal</td>\n",
       "      <td>Normal</td>\n",
       "    </tr>\n",
       "    <tr>\n",
       "      <th>1</th>\n",
       "      <td>2</td>\n",
       "      <td>1.526344e+09</td>\n",
       "      <td>e</td>\n",
       "      <td>tcp</td>\n",
       "      <td>192.168.100.7</td>\n",
       "      <td>139</td>\n",
       "      <td>192.168.100.4</td>\n",
       "      <td>36390</td>\n",
       "      <td>10</td>\n",
       "      <td>680</td>\n",
       "      <td>...</td>\n",
       "      <td>5</td>\n",
       "      <td>5</td>\n",
       "      <td>350</td>\n",
       "      <td>330</td>\n",
       "      <td>0.006190</td>\n",
       "      <td>0.002751</td>\n",
       "      <td>0.002751</td>\n",
       "      <td>0</td>\n",
       "      <td>Normal</td>\n",
       "      <td>Normal</td>\n",
       "    </tr>\n",
       "    <tr>\n",
       "      <th>2</th>\n",
       "      <td>3</td>\n",
       "      <td>1.526344e+09</td>\n",
       "      <td>e</td>\n",
       "      <td>udp</td>\n",
       "      <td>192.168.100.149</td>\n",
       "      <td>51838</td>\n",
       "      <td>27.124.125.250</td>\n",
       "      <td>123</td>\n",
       "      <td>2</td>\n",
       "      <td>180</td>\n",
       "      <td>...</td>\n",
       "      <td>1</td>\n",
       "      <td>1</td>\n",
       "      <td>90</td>\n",
       "      <td>90</td>\n",
       "      <td>20.590960</td>\n",
       "      <td>0.000000</td>\n",
       "      <td>0.000000</td>\n",
       "      <td>0</td>\n",
       "      <td>Normal</td>\n",
       "      <td>Normal</td>\n",
       "    </tr>\n",
       "    <tr>\n",
       "      <th>3</th>\n",
       "      <td>4</td>\n",
       "      <td>1.526344e+09</td>\n",
       "      <td>e</td>\n",
       "      <td>arp</td>\n",
       "      <td>192.168.100.4</td>\n",
       "      <td>-1</td>\n",
       "      <td>192.168.100.7</td>\n",
       "      <td>-1</td>\n",
       "      <td>10</td>\n",
       "      <td>510</td>\n",
       "      <td>...</td>\n",
       "      <td>5</td>\n",
       "      <td>5</td>\n",
       "      <td>210</td>\n",
       "      <td>300</td>\n",
       "      <td>0.006189</td>\n",
       "      <td>0.002751</td>\n",
       "      <td>0.002751</td>\n",
       "      <td>0</td>\n",
       "      <td>Normal</td>\n",
       "      <td>Normal</td>\n",
       "    </tr>\n",
       "    <tr>\n",
       "      <th>4</th>\n",
       "      <td>5</td>\n",
       "      <td>1.526344e+09</td>\n",
       "      <td>e</td>\n",
       "      <td>udp</td>\n",
       "      <td>192.168.100.27</td>\n",
       "      <td>58999</td>\n",
       "      <td>192.168.100.1</td>\n",
       "      <td>53</td>\n",
       "      <td>4</td>\n",
       "      <td>630</td>\n",
       "      <td>...</td>\n",
       "      <td>2</td>\n",
       "      <td>2</td>\n",
       "      <td>174</td>\n",
       "      <td>456</td>\n",
       "      <td>0.005264</td>\n",
       "      <td>0.001755</td>\n",
       "      <td>0.001755</td>\n",
       "      <td>0</td>\n",
       "      <td>Normal</td>\n",
       "      <td>Normal</td>\n",
       "    </tr>\n",
       "  </tbody>\n",
       "</table>\n",
       "<p>5 rows × 29 columns</p>\n",
       "</div>"
      ],
      "text/plain": [
       "   pkSeqID         Stime Flgs Proto            Saddr  Sport           Daddr  \\\n",
       "0        1  1.526344e+09    e   arp    192.168.100.1     -1   192.168.100.3   \n",
       "1        2  1.526344e+09    e   tcp    192.168.100.7    139   192.168.100.4   \n",
       "2        3  1.526344e+09    e   udp  192.168.100.149  51838  27.124.125.250   \n",
       "3        4  1.526344e+09    e   arp    192.168.100.4     -1   192.168.100.7   \n",
       "4        5  1.526344e+09    e   udp   192.168.100.27  58999   192.168.100.1   \n",
       "\n",
       "   Dport  Pkts  Bytes  ... Spkts  Dpkts  Sbytes  Dbytes       Rate     Srate  \\\n",
       "0     -1     4    240  ...     2      2     120     120   0.002508  0.000836   \n",
       "1  36390    10    680  ...     5      5     350     330   0.006190  0.002751   \n",
       "2    123     2    180  ...     1      1      90      90  20.590960  0.000000   \n",
       "3     -1    10    510  ...     5      5     210     300   0.006189  0.002751   \n",
       "4     53     4    630  ...     2      2     174     456   0.005264  0.001755   \n",
       "\n",
       "      Drate  Attack  Category  Subcategory  \n",
       "0  0.000836       0    Normal       Normal  \n",
       "1  0.002751       0    Normal       Normal  \n",
       "2  0.000000       0    Normal       Normal  \n",
       "3  0.002751       0    Normal       Normal  \n",
       "4  0.001755       0    Normal       Normal  \n",
       "\n",
       "[5 rows x 29 columns]"
      ]
     },
     "execution_count": 15,
     "metadata": {},
     "output_type": "execute_result"
    }
   ],
   "source": [
    "#df_combined.replace(nan_value, -1, inplace=True)\n",
    "df_combined['Sport'] = df_combined['Sport'].fillna(-1)\n",
    "df_combined['Dport'] = df_combined['Dport'].fillna(-1)\n",
    "df_combined.head()"
   ]
  },
  {
   "cell_type": "markdown",
   "id": "933a95da",
   "metadata": {},
   "source": [
    "#### In the final dataset for the below paper the column flgs, proto and state have been mapped to numerical features - section 7 describes how state was mapped but not the other two but from a look at the other data seems they were just assigned some integer value"
   ]
  },
  {
   "cell_type": "code",
   "execution_count": 16,
   "id": "6c331e50",
   "metadata": {
    "scrolled": true
   },
   "outputs": [
    {
     "data": {
      "text/plain": [
       "pkSeqID          int64\n",
       "Stime          float64\n",
       "Flgs            object\n",
       "Proto           object\n",
       "Saddr           object\n",
       "Sport           object\n",
       "Daddr           object\n",
       "Dport           object\n",
       "Pkts             int64\n",
       "Bytes            int64\n",
       "State           object\n",
       "Ltime          float64\n",
       "Seq              int64\n",
       "Dur            float64\n",
       "Mean           float64\n",
       "Stddev         float64\n",
       "Sum            float64\n",
       "Min            float64\n",
       "Max            float64\n",
       "Spkts            int64\n",
       "Dpkts            int64\n",
       "Sbytes           int64\n",
       "Dbytes           int64\n",
       "Rate           float64\n",
       "Srate          float64\n",
       "Drate          float64\n",
       "Attack           int64\n",
       "Category        object\n",
       "Subcategory     object\n",
       "dtype: object"
      ]
     },
     "execution_count": 16,
     "metadata": {},
     "output_type": "execute_result"
    }
   ],
   "source": [
    "df_combined.dtypes"
   ]
  },
  {
   "cell_type": "code",
   "execution_count": 17,
   "id": "e1c78ca1",
   "metadata": {},
   "outputs": [
    {
     "data": {
      "text/plain": [
       "Flgs\n",
       "e         43954734\n",
       "e    F          10\n",
       "e   t           94\n",
       "e  D             8\n",
       "e &             56\n",
       "e *          10635\n",
       "e d           2234\n",
       "e dD             1\n",
       "e dS             2\n",
       "e g        2733322\n",
       "e r              5\n",
       "e s       26087706\n",
       "eU          581636\n",
       "dtype: int64"
      ]
     },
     "execution_count": 17,
     "metadata": {},
     "output_type": "execute_result"
    }
   ],
   "source": [
    "df_combined.groupby(['Flgs']).size()"
   ]
  },
  {
   "cell_type": "code",
   "execution_count": 18,
   "id": "031a0c77",
   "metadata": {},
   "outputs": [
    {
     "data": {
      "text/plain": [
       "Proto\n",
       "arp              2830\n",
       "icmp            32322\n",
       "igmp                2\n",
       "ipv6-icmp          88\n",
       "rarp                1\n",
       "tcp          33659883\n",
       "udp          39675317\n",
       "dtype: int64"
      ]
     },
     "execution_count": 18,
     "metadata": {},
     "output_type": "execute_result"
    }
   ],
   "source": [
    "df_combined.groupby(['Proto']).size()"
   ]
  },
  {
   "cell_type": "code",
   "execution_count": 19,
   "id": "5c967141",
   "metadata": {},
   "outputs": [
    {
     "data": {
      "text/plain": [
       "State\n",
       "ACC       17265\n",
       "CLO           1\n",
       "CON       10688\n",
       "ECO        1381\n",
       "FIN       50994\n",
       "INT    39672083\n",
       "MAS          64\n",
       "NRS          88\n",
       "PAR           4\n",
       "REQ    21666023\n",
       "RSP           3\n",
       "RST    11920976\n",
       "TST          64\n",
       "URP       30809\n",
       "dtype: int64"
      ]
     },
     "execution_count": 19,
     "metadata": {},
     "output_type": "execute_result"
    }
   ],
   "source": [
    "df_combined.groupby(['State']).size()"
   ]
  },
  {
   "cell_type": "code",
   "execution_count": 20,
   "id": "41a76764",
   "metadata": {},
   "outputs": [
    {
     "data": {
      "text/plain": [
       "Proto      Proto_number\n",
       "arp        0                   2830\n",
       "icmp       1                  32322\n",
       "igmp       2                      2\n",
       "ipv6-icmp  3                     88\n",
       "rarp       4                      1\n",
       "tcp        5               33659883\n",
       "udp        6               39675317\n",
       "dtype: int64"
      ]
     },
     "execution_count": 20,
     "metadata": {},
     "output_type": "execute_result"
    }
   ],
   "source": [
    "df_combined['Proto_number'] = df_combined.Proto.astype(\"category\").cat.codes\n",
    "df_combined['State_number'] = df_combined.State.astype(\"category\").cat.codes\n",
    "df_combined['Flgs_number'] = df_combined.Flgs.astype(\"category\").cat.codes\n",
    "\n",
    "df_combined.groupby(['Proto', 'Proto_number']).size()"
   ]
  },
  {
   "cell_type": "code",
   "execution_count": 21,
   "id": "30491a68",
   "metadata": {},
   "outputs": [
    {
     "data": {
      "text/plain": [
       "State  State_number\n",
       "ACC    0                  17265\n",
       "CLO    1                      1\n",
       "CON    2                  10688\n",
       "ECO    3                   1381\n",
       "FIN    4                  50994\n",
       "INT    5               39672083\n",
       "MAS    6                     64\n",
       "NRS    7                     88\n",
       "PAR    8                      4\n",
       "REQ    9               21666023\n",
       "RSP    10                     3\n",
       "RST    11              11920976\n",
       "TST    12                    64\n",
       "URP    13                 30809\n",
       "dtype: int64"
      ]
     },
     "execution_count": 21,
     "metadata": {},
     "output_type": "execute_result"
    }
   ],
   "source": [
    "df_combined.groupby(['State', 'State_number']).size()"
   ]
  },
  {
   "cell_type": "code",
   "execution_count": 22,
   "id": "b8b110cf",
   "metadata": {},
   "outputs": [
    {
     "data": {
      "text/plain": [
       "Flgs    Flgs_number\n",
       "e       0              43954734\n",
       "e    F  1                    10\n",
       "e   t   2                    94\n",
       "e  D    3                     8\n",
       "e &     4                    56\n",
       "e *     5                 10635\n",
       "e d     6                  2234\n",
       "e dD    7                     1\n",
       "e dS    8                     2\n",
       "e g     9               2733322\n",
       "e r     10                    5\n",
       "e s     11             26087706\n",
       "eU      12               581636\n",
       "dtype: int64"
      ]
     },
     "execution_count": 22,
     "metadata": {},
     "output_type": "execute_result"
    }
   ],
   "source": [
    "df_combined.groupby(['Flgs', 'Flgs_number']).size()"
   ]
  },
  {
   "cell_type": "markdown",
   "id": "f0f46ada",
   "metadata": {},
   "source": [
    "#### according to review and analysis paper icmp protocol has hexadecimal valus for Sport and Dport it recommends changing these to -1 "
   ]
  },
  {
   "cell_type": "code",
   "execution_count": 44,
   "id": "0799eb3c",
   "metadata": {},
   "outputs": [
    {
     "data": {
      "text/plain": [
       "Sport\n",
       "0x0008     1381\n",
       "0x000c        4\n",
       "0x000d       64\n",
       "0x0011       64\n",
       "0x0303    30809\n",
       "dtype: int64"
      ]
     },
     "execution_count": 44,
     "metadata": {},
     "output_type": "execute_result"
    }
   ],
   "source": [
    "df_combined[df_combined['Proto']== 'icmp'].groupby(['Sport']).size()"
   ]
  },
  {
   "cell_type": "code",
   "execution_count": 45,
   "id": "fd7cbaa0",
   "metadata": {},
   "outputs": [
    {
     "data": {
      "text/plain": [
       "Dport\n",
       "0x0000    132\n",
       "0x0002     30\n",
       "0x0004     31\n",
       "0x0008     31\n",
       "0x000e      1\n",
       "         ... \n",
       "0xff0d      1\n",
       "0xff44     29\n",
       "0xff52     29\n",
       "0xff78     32\n",
       "0xffea      1\n",
       "Length: 2443, dtype: int64"
      ]
     },
     "execution_count": 45,
     "metadata": {},
     "output_type": "execute_result"
    }
   ],
   "source": [
    "df_combined[df_combined['Proto']== 'icmp'].groupby(['Dport']).size()"
   ]
  },
  {
   "cell_type": "code",
   "execution_count": 48,
   "id": "f9aebbd4",
   "metadata": {},
   "outputs": [
    {
     "data": {
      "text/plain": [
       "Sport\n",
       "-1    32322\n",
       "dtype: int64"
      ]
     },
     "execution_count": 48,
     "metadata": {},
     "output_type": "execute_result"
    }
   ],
   "source": [
    "df_combined.loc[df_combined['Proto']== 'icmp', 'Sport'] = -1\n",
    "df_combined[df_combined['Proto']== 'icmp'].groupby(['Sport']).size()"
   ]
  },
  {
   "cell_type": "code",
   "execution_count": 49,
   "id": "d0c8a15f",
   "metadata": {},
   "outputs": [
    {
     "data": {
      "text/plain": [
       "Dport\n",
       "-1    32322\n",
       "dtype: int64"
      ]
     },
     "execution_count": 49,
     "metadata": {},
     "output_type": "execute_result"
    }
   ],
   "source": [
    "df_combined.loc[df_combined['Proto']== 'icmp', 'Dport'] = -1\n",
    "df_combined[df_combined['Proto']== 'icmp'].groupby(['Dport']).size()"
   ]
  },
  {
   "cell_type": "markdown",
   "id": "0c8eae4a",
   "metadata": {},
   "source": [
    "#### review and analysis paper section IV states that instances using ARP should have been labelled as normal traffic only and say these should be removed or relabled as normal. I don't fully understand this so I'm removing all arp instances"
   ]
  },
  {
   "cell_type": "code",
   "execution_count": 51,
   "id": "d21f3790",
   "metadata": {},
   "outputs": [
    {
     "data": {
      "text/plain": [
       "Attack\n",
       "0     468\n",
       "1    2362\n",
       "dtype: int64"
      ]
     },
     "execution_count": 51,
     "metadata": {},
     "output_type": "execute_result"
    }
   ],
   "source": [
    "df_combined[df_combined['Proto']=='arp'].groupby(['Attack']).size()"
   ]
  },
  {
   "cell_type": "code",
   "execution_count": 52,
   "id": "6ef69f77",
   "metadata": {},
   "outputs": [],
   "source": [
    "df_combined.drop(df_combined.index[df_combined['Proto']=='arp'], inplace=True)"
   ]
  },
  {
   "cell_type": "code",
   "execution_count": 53,
   "id": "d8a5e8d0",
   "metadata": {},
   "outputs": [
    {
     "data": {
      "text/plain": [
       "(73163327, 32)"
      ]
     },
     "execution_count": 53,
     "metadata": {},
     "output_type": "execute_result"
    }
   ],
   "source": [
    "df_combined.shape"
   ]
  },
  {
   "cell_type": "code",
   "execution_count": 54,
   "id": "176814fb",
   "metadata": {},
   "outputs": [
    {
     "name": "stdout",
     "output_type": "stream",
     "text": [
      "pkSeqID         73163327\n",
      "Stime           53429572\n",
      "Flgs                  13\n",
      "Proto                  6\n",
      "Saddr                 27\n",
      "Sport             131074\n",
      "Daddr                293\n",
      "Dport             113620\n",
      "Pkts                1790\n",
      "Bytes               6902\n",
      "State                 13\n",
      "Ltime           52157030\n",
      "Seq               524327\n",
      "Dur              8290075\n",
      "Mean             3597147\n",
      "Stddev           2125386\n",
      "Sum              8503488\n",
      "Min              2149670\n",
      "Max              2600879\n",
      "Spkts               1509\n",
      "Dpkts                557\n",
      "Sbytes              5374\n",
      "Dbytes              2058\n",
      "Rate              770976\n",
      "Srate             644618\n",
      "Drate             146338\n",
      "Attack                 2\n",
      "Category               5\n",
      "Subcategory            8\n",
      "Proto_number           6\n",
      "State_number          13\n",
      "Flgs_number           13\n",
      "dtype: int64\n"
     ]
    },
    {
     "data": {
      "image/png": "[encoded data removed]",
      "text/plain": [
       "<Figure size 1440x1920 with 9 Axes>"
      ]
     },
     "metadata": {},
     "output_type": "display_data"
    }
   ],
   "source": [
    "# Distribution graphs (histogram/bar graph) of column data (code from kaggle)\n",
    "def plotPerColumnDistribution(df, nGraphShown, nGraphPerRow):\n",
    "    nunique = df.nunique()\n",
    "    print(nunique)\n",
    "    df = df[[col for col in df if nunique[col] > 1 and nunique[col] < 50]] # For displaying purposes, pick columns that have between 1 and 50 unique values\n",
    "    nRow, nCol = df.shape\n",
    "    \n",
    "    columnNames = list(df)\n",
    "    nGraphRow = (nCol + nGraphPerRow - 1) / nGraphPerRow\n",
    "    plt.figure(num = None, figsize = (6 * nGraphPerRow, 6 * nGraphRow), dpi = 80, facecolor = 'w', edgecolor = 'k')\n",
    "    for i in range(min(nCol, nGraphShown)):\n",
    "        plt.subplot(int(nGraphRow), int(nGraphPerRow), i + 1)\n",
    "        columnDf = df.iloc[:, i]\n",
    "        if (not np.issubdtype(type(columnDf.iloc[0]), np.number)):\n",
    "            valueCounts = columnDf.value_counts()\n",
    "            valueCounts.plot.bar()\n",
    "        else:\n",
    "            columnDf.hist()\n",
    "        plt.ylabel('counts')\n",
    "        plt.xticks(rotation = 90)\n",
    "        plt.title(f'{columnNames[i]} (column {i})')\n",
    "    plt.tight_layout(pad = 1.0, w_pad = 1.0, h_pad = 1.0)\n",
    "    plt.show()\n",
    "\n",
    "plotPerColumnDistribution(df_combined, 9, 3)"
   ]
  },
  {
   "cell_type": "markdown",
   "id": "ce29cd59",
   "metadata": {},
   "source": [
    "#### Downsampling large dataset to smaller subset, taking all normal and theft data"
   ]
  },
  {
   "cell_type": "code",
   "execution_count": 55,
   "id": "431cbb19",
   "metadata": {},
   "outputs": [
    {
     "data": {
      "text/plain": [
       "(9053, 32)"
      ]
     },
     "execution_count": 55,
     "metadata": {},
     "output_type": "execute_result"
    }
   ],
   "source": [
    "df_normal  = df_combined[df_combined['Attack'] == 0]\n",
    "#df_combined = df_combined[df_combined['Attack']==1]\n",
    "df_combined.drop(df_combined.index[df_combined['Attack']==0], inplace=True)\n",
    "df_normal.shape"
   ]
  },
  {
   "cell_type": "code",
   "execution_count": 56,
   "id": "3ea2339f",
   "metadata": {},
   "outputs": [
    {
     "data": {
      "text/plain": [
       "(72501723, 32)"
      ]
     },
     "execution_count": 56,
     "metadata": {},
     "output_type": "execute_result"
    }
   ],
   "source": [
    "df_combined.shape"
   ]
  },
  {
   "cell_type": "code",
   "execution_count": 57,
   "id": "5326fc25",
   "metadata": {},
   "outputs": [
    {
     "data": {
      "text/plain": [
       "(1571, 32)"
      ]
     },
     "execution_count": 57,
     "metadata": {},
     "output_type": "execute_result"
    }
   ],
   "source": [
    "df_theft = df_combined[df_combined['Category'] == 'Theft']\n",
    "df_theft.shape"
   ]
  },
  {
   "cell_type": "code",
   "execution_count": 58,
   "id": "42460263",
   "metadata": {},
   "outputs": [
    {
     "data": {
      "text/plain": [
       "(72387040, 32)"
      ]
     },
     "execution_count": 58,
     "metadata": {},
     "output_type": "execute_result"
    }
   ],
   "source": [
    "df_combined.drop(df_combined.index[df_combined['Category']=='Theft'], inplace=True)\n",
    "df_combined.shape"
   ]
  },
  {
   "cell_type": "markdown",
   "id": "9d3b6809",
   "metadata": {},
   "source": [
    "#### stratify the train, val, test splits"
   ]
  },
  {
   "cell_type": "code",
   "execution_count": 71,
   "id": "6fabbdea",
   "metadata": {},
   "outputs": [
    {
     "name": "stdout",
     "output_type": "stream",
     "text": [
      "(5431, 32)\n",
      "(1811, 32)\n"
     ]
    },
    {
     "data": {
      "text/plain": [
       "(1811, 32)"
      ]
     },
     "execution_count": 71,
     "metadata": {},
     "output_type": "execute_result"
    }
   ],
   "source": [
    "train_ratio = 0.6\n",
    "val_ratio = 0.2\n",
    "test_ratio = 0.2\n",
    "\n",
    "#shuffle\n",
    "df_normal = df_normal.sample(frac=1)\n",
    "\n",
    "train_normal, val_normal, test_normal = np.array_split(df_normal, [int(train_ratio*len(df_normal)), int((train_ratio + val_ratio)*len(df_normal))])\n",
    "print(train_normal.shape)\n",
    "print(val_normal.shape)\n",
    "test_normal.shape"
   ]
  },
  {
   "cell_type": "code",
   "execution_count": 73,
   "id": "ed2e3750",
   "metadata": {},
   "outputs": [
    {
     "name": "stdout",
     "output_type": "stream",
     "text": [
      "(942, 32)\n",
      "(314, 32)\n"
     ]
    },
    {
     "data": {
      "text/plain": [
       "(315, 32)"
      ]
     },
     "execution_count": 73,
     "metadata": {},
     "output_type": "execute_result"
    }
   ],
   "source": [
    "#clear memory\n",
    "df_normal = []\n",
    "\n",
    "df_theft = df_theft.sample(frac=1)\n",
    "\n",
    "train_theft, val_theft, test_theft = np.array_split(df_theft, [int(train_ratio*len(df_theft)), int((train_ratio + val_ratio)*len(df_theft))])\n",
    "print(train_theft.shape)\n",
    "print(val_theft.shape)\n",
    "test_theft.shape"
   ]
  },
  {
   "cell_type": "code",
   "execution_count": 77,
   "id": "cab2aa16",
   "metadata": {},
   "outputs": [],
   "source": [
    "#clear memroy\n",
    "df_theft = []"
   ]
  },
  {
   "cell_type": "code",
   "execution_count": 79,
   "id": "09060137",
   "metadata": {},
   "outputs": [
    {
     "data": {
      "text/plain": [
       "Category\n",
       "DDoS              600000\n",
       "DoS               600000\n",
       "Reconnaissance    600000\n",
       "dtype: int64"
      ]
     },
     "execution_count": 79,
     "metadata": {},
     "output_type": "execute_result"
    }
   ],
   "source": [
    "df_ds_train  = df_combined.groupby('Category', group_keys=False).apply(lambda df_combined: df_combined.sample(600000))\n",
    "df_ds_train.groupby(['Category']).size()"
   ]
  },
  {
   "cell_type": "code",
   "execution_count": 80,
   "id": "ca6a87ac",
   "metadata": {},
   "outputs": [
    {
     "data": {
      "text/plain": [
       "Category\n",
       "DDoS              200000\n",
       "DoS               200000\n",
       "Reconnaissance    200000\n",
       "dtype: int64"
      ]
     },
     "execution_count": 80,
     "metadata": {},
     "output_type": "execute_result"
    }
   ],
   "source": [
    "df_ds_val  = df_combined.groupby('Category', group_keys=False).apply(lambda df_combined: df_combined.sample(200000))\n",
    "df_ds_val.groupby(['Category']).size()"
   ]
  },
  {
   "cell_type": "code",
   "execution_count": 81,
   "id": "19fef603",
   "metadata": {},
   "outputs": [
    {
     "data": {
      "text/plain": [
       "Category\n",
       "DDoS              200000\n",
       "DoS               200000\n",
       "Reconnaissance    200000\n",
       "dtype: int64"
      ]
     },
     "execution_count": 81,
     "metadata": {},
     "output_type": "execute_result"
    }
   ],
   "source": [
    "df_ds_test  = df_combined.groupby('Category', group_keys=False).apply(lambda df_combined: df_combined.sample(200000))\n",
    "df_ds_test.groupby(['Category']).size()"
   ]
  },
  {
   "cell_type": "code",
   "execution_count": 82,
   "id": "6e573d00",
   "metadata": {},
   "outputs": [
    {
     "name": "stdout",
     "output_type": "stream",
     "text": [
      "(1806373, 32)\n",
      "(602125, 32)\n"
     ]
    },
    {
     "data": {
      "text/plain": [
       "(602126, 32)"
      ]
     },
     "execution_count": 82,
     "metadata": {},
     "output_type": "execute_result"
    }
   ],
   "source": [
    "final_train = pd.concat([df_ds_train, train_normal, train_theft], axis = 0, copy=False)\n",
    "print(final_train.shape)\n",
    "final_val = pd.concat([df_ds_val, val_normal, val_theft], axis=0, copy=False)\n",
    "print(final_val.shape)\n",
    "final_test = pd.concat([df_ds_test, test_normal, test_theft], axis=0, copy=False)\n",
    "final_test.shape"
   ]
  },
  {
   "cell_type": "code",
   "execution_count": 84,
   "id": "7fd03437",
   "metadata": {},
   "outputs": [],
   "source": [
    "final_train.to_csv('botiot_wai_training.csv', index=False)\n",
    "final_val.to_csv('botiot_wai_validation.csv', index=False)\n",
    "final_test.to_csv('botiot_wai_testing.csv', index=False)"
   ]
  }
 ],
 "metadata": {
  "kernelspec": {
   "display_name": "Python 3",
   "language": "python",
   "name": "python3"
  },
  "language_info": {
   "codemirror_mode": {
    "name": "ipython",
    "version": 3
   },
   "file_extension": ".py",
   "mimetype": "text/x-python",
   "name": "python",
   "nbconvert_exporter": "python",
   "pygments_lexer": "ipython3",
   "version": "3.7.9"
  }
 },
 "nbformat": 4,
 "nbformat_minor": 5
}
